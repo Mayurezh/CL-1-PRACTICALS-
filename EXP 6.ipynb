{
 "cells": [
  {
   "cell_type": "code",
   "execution_count": null,
   "id": "3144d581",
   "metadata": {},
   "outputs": [],
   "source": [
    "# EXPERIMENT 6 "
   ]
  },
  {
   "cell_type": "code",
   "execution_count": 1,
   "id": "27b0bd90",
   "metadata": {},
   "outputs": [],
   "source": [
    "import numpy as np\n",
    "import random\n",
    "import matplotlib.pyplot as plt"
   ]
  },
  {
   "cell_type": "code",
   "execution_count": 2,
   "id": "1a178752",
   "metadata": {},
   "outputs": [],
   "source": [
    "# Step 1: Define the Maze Environment\n",
    "# 0: empty cell, -1: obstacle, 1: goal\n",
    "maze = np.array([\n",
    "    [0, 0, 0, -1, 0],\n",
    "    [0, -1, 0, -1, 0],\n",
    "    [0, -1, 0, 0, 0],\n",
    "    [0, 0, -1, -1, 0],\n",
    "    [0, 0, 0, 0, 1]\n",
    "])\n",
    "\n",
    "n_rows, n_cols = maze.shape\n",
    "n_actions = 4  # Up, Down, Left, Right\n",
    "actions = ['up', 'down', 'left', 'right']"
   ]
  },
  {
   "cell_type": "code",
   "execution_count": 3,
   "id": "ce0d0e76",
   "metadata": {},
   "outputs": [],
   "source": [
    "# Step 2: Initialize Q-Table\n",
    "Q = np.zeros((n_rows, n_cols, n_actions))"
   ]
  },
  {
   "cell_type": "code",
   "execution_count": 4,
   "id": "d1c42d42",
   "metadata": {},
   "outputs": [],
   "source": [
    "# Step 3: Hyperparameters\n",
    "alpha = 0.1      # Learning rate\n",
    "gamma = 0.9      # Discount factor\n",
    "epsilon = 0.2    # Exploration rate\n",
    "episodes = 1000"
   ]
  },
  {
   "cell_type": "code",
   "execution_count": 9,
   "id": "c02204bb",
   "metadata": {},
   "outputs": [],
   "source": [
    "# Step 4: Helper functions\n",
    "def next_position(row, col, action):\n",
    "    new_row, new_col = row, col\n",
    "    if action == 0:  # Up\n",
    "        new_row -= 1\n",
    "    elif action == 1:  # Down\n",
    "        new_row += 1\n",
    "    elif action == 2:  # Left\n",
    "        new_col -= 1\n",
    "    elif action == 3:  # Right\n",
    "        new_col += 1\n",
    "    \n",
    "    # Stay in place if out of bounds or hits obstacle\n",
    "    if 0 <= new_row < n_rows and 0 <= new_col < n_cols and maze[new_row, new_col] != -1:\n",
    "        return new_row, new_col\n",
    "    else:\n",
    "        return row, col"
   ]
  },
  {
   "cell_type": "code",
   "execution_count": 10,
   "id": "f34a4211",
   "metadata": {},
   "outputs": [],
   "source": [
    "# Step 5: Q-Learning Algorithm\n",
    "for episode in range(episodes):\n",
    "    row, col = 0, 0  # Start position\n",
    "    while maze[row, col] != 1:\n",
    "        # Epsilon-greedy action selection\n",
    "        if random.uniform(0,1) < epsilon:\n",
    "            action = random.randint(0, n_actions-1)  # Explore\n",
    "        else:\n",
    "            action = np.argmax(Q[row, col])          # Exploit\n",
    "        \n",
    "        new_row, new_col = next_position(row, col, action)\n",
    "        \n",
    "        # Reward\n",
    "        if maze[new_row, new_col] == 1:\n",
    "            reward = 100  # Goal\n",
    "        else:\n",
    "            reward = -1   # Step cost\n",
    "        \n",
    "        # Q-Learning update\n",
    "        Q[row, col, action] = Q[row, col, action] + alpha * (\n",
    "            reward + gamma * np.max(Q[new_row, new_col]) - Q[row, col, action]\n",
    "        )\n",
    "        \n",
    "        row, col = new_row, new_col"
   ]
  },
  {
   "cell_type": "code",
   "execution_count": 11,
   "id": "a73955f4",
   "metadata": {},
   "outputs": [
    {
     "name": "stdout",
     "output_type": "stream",
     "text": [
      "Optimal Path from Start to Goal:\n",
      "[(0, 0), (1, 0), (2, 0), (3, 0), (4, 0), (4, 1), (4, 2), (4, 3), (4, 4)]\n"
     ]
    }
   ],
   "source": [
    "# Step 6: Extract Optimal Path\n",
    "row, col = 0, 0\n",
    "path = [(row, col)]\n",
    "while maze[row, col] != 1:\n",
    "    action = np.argmax(Q[row, col])\n",
    "    row, col = next_position(row, col, action)\n",
    "    path.append((row, col))\n",
    "\n",
    "print(\"Optimal Path from Start to Goal:\")\n",
    "print(path)"
   ]
  },
  {
   "cell_type": "code",
   "execution_count": 12,
   "id": "9d76531a",
   "metadata": {},
   "outputs": [
    {
     "data": {
      "image/png": "[encoded data removed]",
      "text/plain": [
       "<Figure size 432x288 with 1 Axes>"
      ]
     },
     "metadata": {
      "needs_background": "light"
     },
     "output_type": "display_data"
    }
   ],
   "source": [
    "# Step 7: Visualize Path\n",
    "path_maze = maze.copy()\n",
    "for r, c in path:\n",
    "    if path_maze[r, c] != 1:\n",
    "        path_maze[r, c] = 0.5  # Mark path\n",
    "\n",
    "plt.imshow(path_maze, cmap='cool', interpolation='nearest')\n",
    "plt.title(\"Maze with Optimal Path (0.5 = Path, -1 = Obstacle, 1 = Goal)\")\n",
    "plt.show()"
   ]
  },
  {
   "cell_type": "code",
   "execution_count": null,
   "id": "30c43588",
   "metadata": {},
   "outputs": [],
   "source": []
  }
 ],
 "metadata": {
  "kernelspec": {
   "display_name": "Python 3 (ipykernel)",
   "language": "python",
   "name": "python3"
  },
  "language_info": {
   "codemirror_mode": {
    "name": "ipython",
    "version": 3
   },
   "file_extension": ".py",
   "mimetype": "text/x-python",
   "name": "python",
   "nbconvert_exporter": "python",
   "pygments_lexer": "ipython3",
   "version": "3.10.5"
  }
 },
 "nbformat": 4,
 "nbformat_minor": 5
}
